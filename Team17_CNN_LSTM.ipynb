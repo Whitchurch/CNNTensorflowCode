{
  "nbformat": 4,
  "nbformat_minor": 0,
  "metadata": {
    "colab": {
      "name": "Team17_CNN_LSTM.ipynb",
      "provenance": [],
      "collapsed_sections": [],
      "authorship_tag": "ABX9TyOhMfRKgnganMFUUJUY18mS",
      "include_colab_link": true
    },
    "kernelspec": {
      "name": "python3",
      "display_name": "Python 3"
    },
    "language_info": {
      "name": "python"
    }
  },
  "cells": [
    {
      "cell_type": "markdown",
      "metadata": {
        "id": "view-in-github",
        "colab_type": "text"
      },
      "source": [
        "<a href=\"https://colab.research.google.com/github/Whitchurch/CNNTensorflowCode/blob/main/Team17_CNN_LSTM.ipynb\" target=\"_parent\"><img src=\"https://colab.research.google.com/assets/colab-badge.svg\" alt=\"Open In Colab\"/></a>"
      ]
    },
    {
      "cell_type": "code",
      "metadata": {
        "id": "DJCjQ8fSb-M1",
        "colab": {
          "base_uri": "https://localhost:8080/"
        },
        "outputId": "4ab87844-56ff-4f0b-b15e-f6f56baa4d85"
      },
      "source": [
        "!pip install tensorflow-GPU"
      ],
      "execution_count": 1,
      "outputs": [
        {
          "output_type": "stream",
          "name": "stdout",
          "text": [
            "Collecting tensorflow-GPU\n",
            "  Downloading tensorflow_gpu-2.6.0-cp37-cp37m-manylinux2010_x86_64.whl (458.3 MB)\n",
            "\u001b[K     |████████████████████████████████| 458.3 MB 10 kB/s \n",
            "\u001b[?25hRequirement already satisfied: h5py~=3.1.0 in /usr/local/lib/python3.7/dist-packages (from tensorflow-GPU) (3.1.0)\n",
            "Requirement already satisfied: gast==0.4.0 in /usr/local/lib/python3.7/dist-packages (from tensorflow-GPU) (0.4.0)\n",
            "Requirement already satisfied: six~=1.15.0 in /usr/local/lib/python3.7/dist-packages (from tensorflow-GPU) (1.15.0)\n",
            "Requirement already satisfied: absl-py~=0.10 in /usr/local/lib/python3.7/dist-packages (from tensorflow-GPU) (0.12.0)\n",
            "Requirement already satisfied: opt-einsum~=3.3.0 in /usr/local/lib/python3.7/dist-packages (from tensorflow-GPU) (3.3.0)\n",
            "Requirement already satisfied: protobuf>=3.9.2 in /usr/local/lib/python3.7/dist-packages (from tensorflow-GPU) (3.17.3)\n",
            "Requirement already satisfied: termcolor~=1.1.0 in /usr/local/lib/python3.7/dist-packages (from tensorflow-GPU) (1.1.0)\n",
            "Requirement already satisfied: typing-extensions~=3.7.4 in /usr/local/lib/python3.7/dist-packages (from tensorflow-GPU) (3.7.4.3)\n",
            "Requirement already satisfied: tensorboard~=2.6 in /usr/local/lib/python3.7/dist-packages (from tensorflow-GPU) (2.6.0)\n",
            "Requirement already satisfied: flatbuffers~=1.12.0 in /usr/local/lib/python3.7/dist-packages (from tensorflow-GPU) (1.12)\n",
            "Requirement already satisfied: numpy~=1.19.2 in /usr/local/lib/python3.7/dist-packages (from tensorflow-GPU) (1.19.5)\n",
            "Requirement already satisfied: astunparse~=1.6.3 in /usr/local/lib/python3.7/dist-packages (from tensorflow-GPU) (1.6.3)\n",
            "Requirement already satisfied: keras-preprocessing~=1.1.2 in /usr/local/lib/python3.7/dist-packages (from tensorflow-GPU) (1.1.2)\n",
            "Requirement already satisfied: wheel~=0.35 in /usr/local/lib/python3.7/dist-packages (from tensorflow-GPU) (0.37.0)\n",
            "Requirement already satisfied: wrapt~=1.12.1 in /usr/local/lib/python3.7/dist-packages (from tensorflow-GPU) (1.12.1)\n",
            "Requirement already satisfied: tensorflow-estimator~=2.6 in /usr/local/lib/python3.7/dist-packages (from tensorflow-GPU) (2.6.0)\n",
            "Requirement already satisfied: keras~=2.6 in /usr/local/lib/python3.7/dist-packages (from tensorflow-GPU) (2.6.0)\n",
            "Requirement already satisfied: google-pasta~=0.2 in /usr/local/lib/python3.7/dist-packages (from tensorflow-GPU) (0.2.0)\n",
            "Requirement already satisfied: grpcio<2.0,>=1.37.0 in /usr/local/lib/python3.7/dist-packages (from tensorflow-GPU) (1.41.0)\n",
            "Requirement already satisfied: clang~=5.0 in /usr/local/lib/python3.7/dist-packages (from tensorflow-GPU) (5.0)\n",
            "Requirement already satisfied: cached-property in /usr/local/lib/python3.7/dist-packages (from h5py~=3.1.0->tensorflow-GPU) (1.5.2)\n",
            "Requirement already satisfied: requests<3,>=2.21.0 in /usr/local/lib/python3.7/dist-packages (from tensorboard~=2.6->tensorflow-GPU) (2.23.0)\n",
            "Requirement already satisfied: setuptools>=41.0.0 in /usr/local/lib/python3.7/dist-packages (from tensorboard~=2.6->tensorflow-GPU) (57.4.0)\n",
            "Requirement already satisfied: google-auth-oauthlib<0.5,>=0.4.1 in /usr/local/lib/python3.7/dist-packages (from tensorboard~=2.6->tensorflow-GPU) (0.4.6)\n",
            "Requirement already satisfied: werkzeug>=0.11.15 in /usr/local/lib/python3.7/dist-packages (from tensorboard~=2.6->tensorflow-GPU) (1.0.1)\n",
            "Requirement already satisfied: tensorboard-plugin-wit>=1.6.0 in /usr/local/lib/python3.7/dist-packages (from tensorboard~=2.6->tensorflow-GPU) (1.8.0)\n",
            "Requirement already satisfied: tensorboard-data-server<0.7.0,>=0.6.0 in /usr/local/lib/python3.7/dist-packages (from tensorboard~=2.6->tensorflow-GPU) (0.6.1)\n",
            "Requirement already satisfied: google-auth<2,>=1.6.3 in /usr/local/lib/python3.7/dist-packages (from tensorboard~=2.6->tensorflow-GPU) (1.35.0)\n",
            "Requirement already satisfied: markdown>=2.6.8 in /usr/local/lib/python3.7/dist-packages (from tensorboard~=2.6->tensorflow-GPU) (3.3.4)\n",
            "Requirement already satisfied: cachetools<5.0,>=2.0.0 in /usr/local/lib/python3.7/dist-packages (from google-auth<2,>=1.6.3->tensorboard~=2.6->tensorflow-GPU) (4.2.4)\n",
            "Requirement already satisfied: rsa<5,>=3.1.4 in /usr/local/lib/python3.7/dist-packages (from google-auth<2,>=1.6.3->tensorboard~=2.6->tensorflow-GPU) (4.7.2)\n",
            "Requirement already satisfied: pyasn1-modules>=0.2.1 in /usr/local/lib/python3.7/dist-packages (from google-auth<2,>=1.6.3->tensorboard~=2.6->tensorflow-GPU) (0.2.8)\n",
            "Requirement already satisfied: requests-oauthlib>=0.7.0 in /usr/local/lib/python3.7/dist-packages (from google-auth-oauthlib<0.5,>=0.4.1->tensorboard~=2.6->tensorflow-GPU) (1.3.0)\n",
            "Requirement already satisfied: importlib-metadata in /usr/local/lib/python3.7/dist-packages (from markdown>=2.6.8->tensorboard~=2.6->tensorflow-GPU) (4.8.1)\n",
            "Requirement already satisfied: pyasn1<0.5.0,>=0.4.6 in /usr/local/lib/python3.7/dist-packages (from pyasn1-modules>=0.2.1->google-auth<2,>=1.6.3->tensorboard~=2.6->tensorflow-GPU) (0.4.8)\n",
            "Requirement already satisfied: urllib3!=1.25.0,!=1.25.1,<1.26,>=1.21.1 in /usr/local/lib/python3.7/dist-packages (from requests<3,>=2.21.0->tensorboard~=2.6->tensorflow-GPU) (1.24.3)\n",
            "Requirement already satisfied: chardet<4,>=3.0.2 in /usr/local/lib/python3.7/dist-packages (from requests<3,>=2.21.0->tensorboard~=2.6->tensorflow-GPU) (3.0.4)\n",
            "Requirement already satisfied: idna<3,>=2.5 in /usr/local/lib/python3.7/dist-packages (from requests<3,>=2.21.0->tensorboard~=2.6->tensorflow-GPU) (2.10)\n",
            "Requirement already satisfied: certifi>=2017.4.17 in /usr/local/lib/python3.7/dist-packages (from requests<3,>=2.21.0->tensorboard~=2.6->tensorflow-GPU) (2021.5.30)\n",
            "Requirement already satisfied: oauthlib>=3.0.0 in /usr/local/lib/python3.7/dist-packages (from requests-oauthlib>=0.7.0->google-auth-oauthlib<0.5,>=0.4.1->tensorboard~=2.6->tensorflow-GPU) (3.1.1)\n",
            "Requirement already satisfied: zipp>=0.5 in /usr/local/lib/python3.7/dist-packages (from importlib-metadata->markdown>=2.6.8->tensorboard~=2.6->tensorflow-GPU) (3.6.0)\n",
            "Installing collected packages: tensorflow-GPU\n",
            "Successfully installed tensorflow-GPU-2.6.0\n"
          ]
        }
      ]
    },
    {
      "cell_type": "code",
      "metadata": {
        "id": "NI8e-OL5rtyG",
        "colab": {
          "base_uri": "https://localhost:8080/"
        },
        "outputId": "8b0872dd-6c26-4d17-efef-a48894903194"
      },
      "source": [
        "from google.colab import drive\n",
        "drive.mount('/content/drive')"
      ],
      "execution_count": 2,
      "outputs": [
        {
          "output_type": "stream",
          "name": "stdout",
          "text": [
            "Mounted at /content/drive\n"
          ]
        }
      ]
    },
    {
      "cell_type": "markdown",
      "metadata": {
        "id": "oxKbf6z3cT3G"
      },
      "source": [
        "Install Tensorflow on Google Co-lab"
      ]
    },
    {
      "cell_type": "code",
      "metadata": {
        "id": "7zNXb0FNcr7S"
      },
      "source": [
        "import tensorflow as tf\n",
        "import numpy as np\n",
        "import matplotlib.pyplot as plt\n",
        "import os\n",
        "import csv \n",
        "from tensorflow import keras\n",
        "from keras.layers import Dense\n",
        "from keras.layers import Conv2D\n",
        "from keras.layers import MaxPooling2D\n",
        "from keras.layers import BatchNormalization\n",
        "from keras.layers import AveragePooling2D\n",
        "from keras.layers import Flatten\n",
        "from keras.layers import CuDNNLSTM # A superior LSTM that uses GPU more optimized for training.\n",
        "from keras.layers import LSTM\n",
        "from keras.models import Sequential"
      ],
      "execution_count": 3,
      "outputs": []
    },
    {
      "cell_type": "markdown",
      "metadata": {
        "id": "8YCMbF1LslRM"
      },
      "source": [
        "Steps to pre-process and load the data"
      ]
    },
    {
      "cell_type": "code",
      "metadata": {
        "id": "q76uho-Lsp47"
      },
      "source": [
        "os.chdir(\"drive/My Drive/Colab Notebooks\")\n"
      ],
      "execution_count": 4,
      "outputs": []
    },
    {
      "cell_type": "code",
      "metadata": {
        "colab": {
          "base_uri": "https://localhost:8080/"
        },
        "id": "bPKqnFBNszh3",
        "outputId": "a784bf28-3248-4d3b-f8e8-b17de08f358a"
      },
      "source": [
        "ls"
      ],
      "execution_count": 5,
      "outputs": [
        {
          "output_type": "stream",
          "name": "stdout",
          "text": [
            " Access_Local_directory.ipynb\n",
            "'Copy of Untitled0.ipynb'\n",
            " ECGsignal2700.csv\n",
            " ECGsignal.csv\n",
            " ECGsignal_n2700.csv\n",
            " ECGsignal_n.csv\n",
            " ECGsignal_nwhite.csv\n",
            " Exercise_1_Cats_vs_Dogs_Question-FINAL.ipynb\n",
            " Exercise_2_Cats_vs_Dogs_using_augmentation_Question-FINAL.ipynb\n",
            " Exercise_3_Horses_vs_humans_using_Transfer_Learning_Question-FINAL.ipynb\n",
            " Exercise_4_Multi_class_classifier_Question-FINAL.ipynb\n",
            " FinalCNN_Beginner.ipynb\n",
            " Team17_CNN_LSTM.ipynb\n",
            " Untitled0.ipynb\n",
            " Untitled1.ipynb\n",
            " Untitled2.ipynb\n"
          ]
        }
      ]
    },
    {
      "cell_type": "code",
      "metadata": {
        "colab": {
          "base_uri": "https://localhost:8080/"
        },
        "id": "P_WYmzcttPiG",
        "outputId": "63335601-37e0-4868-acbc-a81c59f853a3"
      },
      "source": [
        "#Read the clean signal\n",
        "with open('ECGsignal2700.csv') as csv_file:\n",
        "  csv_reader = csv.reader(csv_file)\n",
        "\n",
        "  for ECGsignal in csv_reader:\n",
        "    print(ECGsignal)\n",
        "  print(\"Finished reading the file\")\n",
        "\n",
        "#Time to dissect the file read data's anatomy:\n",
        "#Total number of items in the list:\n",
        "len(ECGsignal)\n",
        "\n",
        "#Convert the list to an array \n",
        "ECGsignal_arr = np.array(ECGsignal,dtype=float)\n",
        "\n",
        "#Read the noisy signal\n",
        "with open('ECGsignal_n2700.csv') as csv_file:\n",
        "  csv_reader = csv.reader(csv_file)\n",
        "\n",
        "  for ECGsignal_n in csv_reader:\n",
        "    print(ECGsignal_n)\n",
        "  print(\"Finished reading the file\")\n",
        "\n",
        "#Time to dissect the file read data's anatomy:\n",
        "#Total number of items in the list:\n",
        "len(ECGsignal_n)\n",
        "\n",
        "#Convert the list to an array \n",
        "ECGsignal_n_arr = np.array(ECGsignal_n,dtype=float)"
      ],
      "execution_count": 10,
      "outputs": [
        {
          "output_type": "stream",
          "name": "stderr",
          "text": [
            "IOPub data rate exceeded.\n",
            "The notebook server will temporarily stop sending output\n",
            "to the client in order to avoid crashing it.\n",
            "To change this limit, set the config variable\n",
            "`--NotebookApp.iopub_data_rate_limit`.\n",
            "\n",
            "Current values:\n",
            "NotebookApp.iopub_data_rate_limit=1000000.0 (bytes/sec)\n",
            "NotebookApp.rate_limit_window=3.0 (secs)\n",
            "\n"
          ]
        }
      ]
    },
    {
      "cell_type": "code",
      "metadata": {
        "id": "z2YBfWXfv5Ke",
        "colab": {
          "base_uri": "https://localhost:8080/"
        },
        "outputId": "d27787ba-918d-4ca5-b8b8-db70743403cb"
      },
      "source": [
        "tupleofdimensions = ECGsignal_arr.shape\n",
        "num = tupleofdimensions[0]\n",
        "Training_test_Split = 0.95  # Modify this line to control the Test-Train split\n",
        "\n",
        "a=Training_test_Split*num;                                 \n",
        "XTrain=ECGsignal_n_arr[0:int(a)];                  \n",
        "YTrain=ECGsignal_arr[0:int(a)];\n",
        "XTest=ECGsignal_n_arr[int(a):num];               \n",
        "YTest=ECGsignal_arr[int(a):num];\n",
        "scaling_factor = num/(5400000)\n",
        "train_samples=(30*60*Training_test_Split/10)*scaling_factor;\n",
        "test_samples =(30*60*(1-Training_test_Split)/10)*scaling_factor;\n",
        "\n",
        "print(XTrain.shape)\n",
        "print(XTest.shape)\n",
        "print(int(train_samples))\n",
        "print(int(test_samples))"
      ],
      "execution_count": 15,
      "outputs": [
        {
          "output_type": "stream",
          "name": "stdout",
          "text": [
            "(25650000,)\n",
            "(1350000,)\n",
            "855\n",
            "45\n"
          ]
        }
      ]
    },
    {
      "cell_type": "code",
      "metadata": {
        "colab": {
          "base_uri": "https://localhost:8080/"
        },
        "id": "Q5Kbn3vsRXFX",
        "outputId": "dbe5b697-e735-47e9-bbe5-7ed5a3c2e1b9"
      },
      "source": [
        "print(YTrain.shape)\n",
        "print(YTest.shape)"
      ],
      "execution_count": 16,
      "outputs": [
        {
          "output_type": "stream",
          "name": "stdout",
          "text": [
            "(25650000,)\n",
            "(1350000,)\n"
          ]
        }
      ]
    },
    {
      "cell_type": "markdown",
      "metadata": {
        "id": "94xeGV8y1Gyg"
      },
      "source": [
        "Break up the Train and Test data into 4D vectors for the Tensorflow CNN: Format is [Batch_size,Height,width,depth]\n",
        "\n",
        "Reference:https://towardsdatascience.com/understanding-input-and-output-shapes-in-convolution-network-keras-f143923d56ca"
      ]
    },
    {
      "cell_type": "code",
      "metadata": {
        "id": "XQwVYV0r1UYy",
        "colab": {
          "base_uri": "https://localhost:8080/"
        },
        "outputId": "ca298e45-d1d8-45cc-a2b6-c221c5f6ccaa"
      },
      "source": [
        "XTrain_reshaped = np.reshape(XTrain,(int(train_samples),30000,1,1))\n",
        "YTrain_reshaped = np.reshape(YTrain,(int(train_samples),30000))\n",
        "\n",
        "XTest_reshaped = np.reshape(XTest,(int(test_samples),30000,1,1))\n",
        "YTest_reshaped = np.reshape(YTest,(int(test_samples),30000))\n",
        "\n",
        "print(XTest_reshaped.shape)\n",
        "print(XTrain_reshaped.shape)\n",
        "\n",
        "\n",
        "\n"
      ],
      "execution_count": 17,
      "outputs": [
        {
          "output_type": "stream",
          "name": "stdout",
          "text": [
            "(45, 30000, 1, 1)\n",
            "(855, 30000, 1, 1)\n"
          ]
        }
      ]
    },
    {
      "cell_type": "markdown",
      "metadata": {
        "id": "_DS4G6DNdkC3"
      },
      "source": [
        "Start defining the layers of the CNN - From the De-noising paper"
      ]
    },
    {
      "cell_type": "code",
      "metadata": {
        "id": "ppaaL62fdjsJ",
        "colab": {
          "base_uri": "https://localhost:8080/",
          "height": 1000
        },
        "outputId": "893b83c1-93bd-410f-b10d-fddea80b5321"
      },
      "source": [
        "model = Sequential(name=\"DNN_using_CNN_for_Denoising\")\n",
        "\n",
        "# Convolution layers are used to extract the most prominent features of the input data.\n",
        "#Layer 1:\n",
        "#Conv-layer -> BatchNorm -> RELU-> AvdPooling\n",
        "model.add(Conv2D(36, (19,1), input_shape=(30000,1,1),activation='relu',padding='SAME',strides=(1,1),name='conv_1')) \n",
        "model.add(BatchNormalization(name='batchnorm_1'))\n",
        "model.add(Dense(units=36,activation='relu',name='relu_1'))\n",
        "model.add(AveragePooling2D(pool_size=(2,1),strides=(4,1),name='avgpool_1'))\n",
        "\n",
        "#Layer 2:\n",
        "#Conv-layer -> BatchNorm -> RELU-> AvdPooling\n",
        "model.add(Conv2D(36,(19,1),strides=(1,1),padding='SAME',name='conv_2'))\n",
        "model.add(BatchNormalization(name='batchnorm_2'))\n",
        "model.add(Dense(units=36,activation='relu',name='relu_2'))\n",
        "model.add(AveragePooling2D(pool_size=(2,1),strides=(4,1),name='avgpool_2'))\n",
        "\n",
        "#Layer 3:\n",
        "#Conv-layer -> BatchNorm -> RELU-> AvdPooling\n",
        "model.add(Conv2D(36,(19,1),strides=(1,1),padding='SAME',name='conv_3'))\n",
        "model.add(BatchNormalization(name='batchnorm_3'))\n",
        "model.add(Dense(units=36,activation='relu',name='relu_3'))\n",
        "model.add(AveragePooling2D(pool_size=(2,1),strides=(4,1),name='avgpool_3'))\n",
        "\n",
        "#Layer 4:\n",
        "#Conv-layer -> BatchNorm -> RELU-> AvdPooling\n",
        "model.add(Conv2D(36,(19,1),strides=(1,1),padding='SAME',name='conv_4'))\n",
        "model.add(BatchNormalization(name='batchnorm_4'))\n",
        "model.add(Dense(units=36,activation='relu',name='relu_4'))\n",
        "model.add(AveragePooling2D(pool_size=(2,1),strides=(4,1),name='avgpool_4'))\n",
        "\n",
        "\n",
        "#Layer 5:\n",
        "#Conv-layer -> BatchNorm -> RELU-> AvdPooling\n",
        "model.add(Conv2D(36,(19,1),strides=(1,1),padding='SAME',name='conv_5'))\n",
        "model.add(BatchNormalization(name='batchnorm_5'))\n",
        "model.add(Dense(units=36,activation='relu',name='relu_5'))\n",
        "model.add(AveragePooling2D(pool_size=(2,1),strides=(4,1),name='avgpool_5'))\n",
        "\n",
        "\n",
        "#Layer 6:\n",
        "#Conv-layer -> BatchNorm -> RELU-> AvdPooling\n",
        "model.add(Conv2D(36,(19,1),strides=(1,1),padding='SAME',name='conv_6'))\n",
        "model.add(BatchNormalization(name='batchnorm_6'))\n",
        "model.add(Dense(units=36,activation='relu',name='relu_6'))\n",
        "model.add(AveragePooling2D(pool_size=(2,1),strides=(4,1),name='avgpool_6'))\n",
        "model.add(Flatten())\n",
        "\n",
        "#Now adding in the fully-connected dense layer: This will act on the data extracted from the CNN in the prior stages\n",
        "model.add(Dense(units= 30000,activation=None,use_bias=True))\n",
        "model.summary()\n",
        "\n",
        "#Last layer of the FCN is only showing the inputsx weight.  \n",
        "#Investigating to see, if the bias is used. even though model summary is not displaying it.\n",
        "#weights, biases = model.layers[25].get_weights()\n",
        "#print(len(weights))\n",
        "#print(len(biases))\n",
        "\n",
        "#Build the model, we follow the paper, using Adam optimizer, for speeding up gradient descent\n",
        "#And RMS as the cost function, metric to optimize against.\n",
        "\n",
        "#Compile the model\n",
        "model.compile(optimizer='adam',loss='mean_squared_error',metrics=['mse'])\n",
        "\n",
        "#Fit the model.\n",
        "# Train the Model\n",
        "#history = model.fit_generator(train_generator,validation_data = validation_generator, epochs = 10,steps_per_epoch = 1372, validation_steps = 350,verbose = 1 )\n",
        "history = model.fit(XTrain_reshaped,YTrain_reshaped,epochs=10,verbose=2,validation_data=(XTest_reshaped,YTest_reshaped))\n",
        "\n",
        "# Plot the chart for accuracy and loss on both training and validation\n",
        "%matplotlib inline\n",
        "import matplotlib.pyplot as plt\n",
        "mse = history.history['mse']\n",
        "val_mse = history.history['val_mse']\n",
        "\n",
        "\n",
        "epochs = range(len(mse))\n",
        "\n",
        "plt.plot(epochs, mse, 'r', label='MSE')\n",
        "plt.plot(epochs, val_mse, 'b', label='Validation MSE')\n",
        "plt.title('Training and validation MSE')\n",
        "plt.legend()\n",
        "plt.figure()\n",
        "\n",
        "plt.show()\n",
        "                                    "
      ],
      "execution_count": 18,
      "outputs": [
        {
          "output_type": "stream",
          "name": "stdout",
          "text": [
            "Model: \"DNN_using_CNN_for_Denoising\"\n",
            "_________________________________________________________________\n",
            "Layer (type)                 Output Shape              Param #   \n",
            "=================================================================\n",
            "conv_1 (Conv2D)              (None, 30000, 1, 36)      720       \n",
            "_________________________________________________________________\n",
            "batchnorm_1 (BatchNormalizat (None, 30000, 1, 36)      144       \n",
            "_________________________________________________________________\n",
            "relu_1 (Dense)               (None, 30000, 1, 36)      1332      \n",
            "_________________________________________________________________\n",
            "avgpool_1 (AveragePooling2D) (None, 7500, 1, 36)       0         \n",
            "_________________________________________________________________\n",
            "conv_2 (Conv2D)              (None, 7500, 1, 36)       24660     \n",
            "_________________________________________________________________\n",
            "batchnorm_2 (BatchNormalizat (None, 7500, 1, 36)       144       \n",
            "_________________________________________________________________\n",
            "relu_2 (Dense)               (None, 7500, 1, 36)       1332      \n",
            "_________________________________________________________________\n",
            "avgpool_2 (AveragePooling2D) (None, 1875, 1, 36)       0         \n",
            "_________________________________________________________________\n",
            "conv_3 (Conv2D)              (None, 1875, 1, 36)       24660     \n",
            "_________________________________________________________________\n",
            "batchnorm_3 (BatchNormalizat (None, 1875, 1, 36)       144       \n",
            "_________________________________________________________________\n",
            "relu_3 (Dense)               (None, 1875, 1, 36)       1332      \n",
            "_________________________________________________________________\n",
            "avgpool_3 (AveragePooling2D) (None, 469, 1, 36)        0         \n",
            "_________________________________________________________________\n",
            "conv_4 (Conv2D)              (None, 469, 1, 36)        24660     \n",
            "_________________________________________________________________\n",
            "batchnorm_4 (BatchNormalizat (None, 469, 1, 36)        144       \n",
            "_________________________________________________________________\n",
            "relu_4 (Dense)               (None, 469, 1, 36)        1332      \n",
            "_________________________________________________________________\n",
            "avgpool_4 (AveragePooling2D) (None, 117, 1, 36)        0         \n",
            "_________________________________________________________________\n",
            "conv_5 (Conv2D)              (None, 117, 1, 36)        24660     \n",
            "_________________________________________________________________\n",
            "batchnorm_5 (BatchNormalizat (None, 117, 1, 36)        144       \n",
            "_________________________________________________________________\n",
            "relu_5 (Dense)               (None, 117, 1, 36)        1332      \n",
            "_________________________________________________________________\n",
            "avgpool_5 (AveragePooling2D) (None, 29, 1, 36)         0         \n",
            "_________________________________________________________________\n",
            "conv_6 (Conv2D)              (None, 29, 1, 36)         24660     \n",
            "_________________________________________________________________\n",
            "batchnorm_6 (BatchNormalizat (None, 29, 1, 36)         144       \n",
            "_________________________________________________________________\n",
            "relu_6 (Dense)               (None, 29, 1, 36)         1332      \n",
            "_________________________________________________________________\n",
            "avgpool_6 (AveragePooling2D) (None, 7, 1, 36)          0         \n",
            "_________________________________________________________________\n",
            "flatten (Flatten)            (None, 252)               0         \n",
            "_________________________________________________________________\n",
            "dense (Dense)                (None, 30000)             7590000   \n",
            "=================================================================\n",
            "Total params: 7,722,876\n",
            "Trainable params: 7,722,444\n",
            "Non-trainable params: 432\n",
            "_________________________________________________________________\n",
            "Epoch 1/10\n",
            "27/27 - 117s - loss: 0.1593 - mse: 0.1593 - val_loss: 0.9765 - val_mse: 0.9765\n",
            "Epoch 2/10\n",
            "27/27 - 114s - loss: 0.1210 - mse: 0.1210 - val_loss: 0.5815 - val_mse: 0.5815\n",
            "Epoch 3/10\n",
            "27/27 - 114s - loss: 0.1162 - mse: 0.1162 - val_loss: 0.1597 - val_mse: 0.1597\n",
            "Epoch 4/10\n",
            "27/27 - 115s - loss: 0.1126 - mse: 0.1126 - val_loss: 0.1601 - val_mse: 0.1601\n",
            "Epoch 5/10\n",
            "27/27 - 112s - loss: 0.1060 - mse: 0.1060 - val_loss: 0.1452 - val_mse: 0.1452\n",
            "Epoch 6/10\n",
            "27/27 - 113s - loss: 0.0989 - mse: 0.0989 - val_loss: 0.1448 - val_mse: 0.1448\n",
            "Epoch 7/10\n",
            "27/27 - 114s - loss: 0.0927 - mse: 0.0927 - val_loss: 0.1329 - val_mse: 0.1329\n",
            "Epoch 8/10\n",
            "27/27 - 114s - loss: 0.0885 - mse: 0.0885 - val_loss: 0.1608 - val_mse: 0.1608\n",
            "Epoch 9/10\n",
            "27/27 - 112s - loss: 0.0832 - mse: 0.0832 - val_loss: 0.1384 - val_mse: 0.1384\n",
            "Epoch 10/10\n",
            "27/27 - 113s - loss: 0.0790 - mse: 0.0790 - val_loss: 0.1284 - val_mse: 0.1284\n"
          ]
        },
        {
          "output_type": "display_data",
          "data": {
            "image/png": "[encoded data removed]",
            "text/plain": [
              "<Figure size 432x288 with 1 Axes>"
            ]
          },
          "metadata": {
            "needs_background": "light"
          }
        },
        {
          "output_type": "display_data",
          "data": {
            "text/plain": [
              "<Figure size 432x288 with 0 Axes>"
            ]
          },
          "metadata": {}
        }
      ]
    },
    {
      "cell_type": "markdown",
      "metadata": {
        "id": "ctShmsIAebCZ"
      },
      "source": [
        "CHARTS:"
      ]
    },
    {
      "cell_type": "code",
      "metadata": {
        "id": "u5EJxHiqehZ7"
      },
      "source": [
        ""
      ],
      "execution_count": null,
      "outputs": []
    },
    {
      "cell_type": "markdown",
      "metadata": {
        "id": "ZOt07WKtDirw"
      },
      "source": [
        "Start defining the LSTM implementation:"
      ]
    },
    {
      "cell_type": "markdown",
      "metadata": {
        "id": "-VaLOkLGxoJ1"
      },
      "source": [
        "RE-shape the Data so that it can be used in the LSTM:  \n",
        "LSTM Input = [Sample,TimeSteps,Features]\n",
        "In out case it is: [Test/Training samples, 30000,1]\n",
        "\n",
        "Reference:\n",
        "https://machinelearningmastery.com/reshape-input-data-long-short-term-memory-networks-keras/"
      ]
    },
    {
      "cell_type": "code",
      "metadata": {
        "colab": {
          "base_uri": "https://localhost:8080/"
        },
        "id": "w2rC2nZWxr0x",
        "outputId": "61dbd7d2-0ca5-460e-ea07-4f0077287cc0"
      },
      "source": [
        "XTrain_reshaped = XTrain.reshape(int(train_samples),30000,1)\n",
        "YTrain_reshaped = YTrain.reshape(int(train_samples),30000,1)\n",
        "\n",
        "XTest_reshaped = XTest.reshape(int(test_samples),30000,1)\n",
        "YTest_reshaped = YTest.reshape(int(test_samples),30000,1)\n",
        "\n",
        "#print the input data shapes:\n",
        "print(\"Training data shapes: Input and Output\")\n",
        "print(XTrain_reshaped.shape)\n",
        "print(YTrain_reshaped.shape)\n",
        "\n",
        "print(\"Test data shapes: Input and Output\")\n",
        "print(XTest_reshaped.shape)\n",
        "print(YTest_reshaped.shape)\n"
      ],
      "execution_count": null,
      "outputs": [
        {
          "output_type": "stream",
          "name": "stdout",
          "text": [
            "Training data shapes: Input and Output\n",
            "(171, 30000, 1)\n",
            "(171, 30000, 1)\n",
            "Test data shapes: Input and Output\n",
            "(9, 30000, 1)\n",
            "(9, 30000, 1)\n"
          ]
        }
      ]
    },
    {
      "cell_type": "markdown",
      "metadata": {
        "id": "XVs4JvKHxkMo"
      },
      "source": [
        "The definition of the LSTM model follows below:"
      ]
    },
    {
      "cell_type": "code",
      "metadata": {
        "id": "pe2pXI_YDnc0",
        "colab": {
          "base_uri": "https://localhost:8080/"
        },
        "outputId": "f55e600b-5c67-4103-f35f-d23a13adb4a5"
      },
      "source": [
        "model1 = Sequential(name=\"DNN_using_LSTM_for_Denoising\");\n",
        "#The LSTM->RELU-> return sequential ouput.\n",
        "#model1.add(CuDNNLSTM(140,input_shape=(30000,1),name=\"lstm_1_relu_1\",return_sequences=True)) \n",
        "model1.add(LSTM(140,input_shape=(30000,1),name=\"lstm_1_relu_1\",activation='relu',return_sequences=True)) \n",
        "# sequential output/input -> LSTM2->Relu -> flattened output (return_sequence = false, by default)\n",
        "#The output of LSTM2 is a flattened output -> Fully connected layer.\n",
        "#model1.add(CuDNNLSTM(140,name=\"lstm_2_relu_2\"))\n",
        "model1.add(LSTM(140,name=\"lstm_2_relu_2\",activation='relu'))\n",
        "#Add the fully connected layer of 30000 \n",
        "model1.add(Dense(30000,activation=None))\n",
        "model1.summary()\n",
        "\n",
        "#Build the model, we follow the paper, using Adam optimizer, for speeding up gradient descent\n",
        "#And RMS as the cost function, metric to optimize against.\n",
        "optimizer = keras.optimizers.Adam(lr=0.01)\n",
        "#Compile the model\n",
        "model1.compile(optimizer=optimizer,loss='mean_squared_error',metrics=['mse','loss'])\n",
        "\n",
        "#Fit the model.\n",
        "# Train the Model\n",
        "history = model1.fit(XTrain_reshaped,YTrain_reshaped,epochs=1,validation_data=(XTest_reshaped,YTest_reshaped),verbose=1)\n",
        "\n",
        "# Plot the chart for accuracy and loss on both training and validation\n",
        "%matplotlib inline\n",
        "import matplotlib.pyplot as plt\n",
        "acc = history.history['mse']\n",
        "val_acc = history.history['val_mse']\n",
        "loss = history.history['loss']\n",
        "val_loss = history.history['val_loss']\n",
        "\n",
        "epochs = range(len(acc))\n",
        "\n",
        "plt.plot(epochs, acc, 'r', label='Training accuracy')\n",
        "plt.plot(epochs, val_acc, 'b', label='Validation accuracy')\n",
        "plt.title('Training and validation accuracy')\n",
        "plt.legend()\n",
        "plt.figure()\n",
        "\n",
        "plt.plot(epochs, loss, 'r', label='Training Loss')\n",
        "plt.plot(epochs, val_loss, 'b', label='Validation Loss')\n",
        "plt.title('Training and validation loss')\n",
        "plt.legend()\n",
        "\n",
        "plt.show()\n"
      ],
      "execution_count": null,
      "outputs": [
        {
          "output_type": "stream",
          "name": "stdout",
          "text": [
            "WARNING:tensorflow:Layer lstm_1_relu_1 will not use cuDNN kernels since it doesn't meet the criteria. It will use a generic GPU kernel as fallback when running on GPU.\n",
            "WARNING:tensorflow:Layer lstm_2_relu_2 will not use cuDNN kernels since it doesn't meet the criteria. It will use a generic GPU kernel as fallback when running on GPU.\n",
            "Model: \"DNN_using_LSTM_for_Denoising\"\n",
            "_________________________________________________________________\n",
            "Layer (type)                 Output Shape              Param #   \n",
            "=================================================================\n",
            "lstm_1_relu_1 (LSTM)         (None, 30000, 140)        79520     \n",
            "_________________________________________________________________\n",
            "lstm_2_relu_2 (LSTM)         (None, 140)               157360    \n",
            "_________________________________________________________________\n",
            "dense_2 (Dense)              (None, 30000)             4230000   \n",
            "=================================================================\n",
            "Total params: 4,466,880\n",
            "Trainable params: 4,466,880\n",
            "Non-trainable params: 0\n",
            "_________________________________________________________________\n"
          ]
        },
        {
          "output_type": "stream",
          "name": "stderr",
          "text": [
            "/usr/local/lib/python3.7/dist-packages/keras/optimizer_v2/optimizer_v2.py:356: UserWarning: The `lr` argument is deprecated, use `learning_rate` instead.\n",
            "  \"The `lr` argument is deprecated, use `learning_rate` instead.\")\n"
          ]
        }
      ]
    },
    {
      "cell_type": "markdown",
      "metadata": {
        "id": "xmjWCEyTgRgC"
      },
      "source": [
        "Helpful references:\n",
        "\n",
        "1)This explains why last dense layer has no activation function:\n",
        "  - we primarily do that if we are trying to accuractely do regression.\n",
        "\n",
        "https://stats.stackexchange.com/questions/361066/what-is-the-point-of-having-a-dense-layer-in-a-neural-network-with-no-activation\n",
        "\n",
        "2)This video shows how to implement a stacked LSTM model:\n",
        "https://www.youtube.com/watch?v=BSpXCRTOLJA\n",
        "\n",
        "3) This video shows the inner anatomy of an LSTM, primarily the sigmoid and Tanh, used for gating inside the LSTM:\n",
        "https://www.youtube.com/watch?v=8HyCNIVRbSU&t=632s\n",
        "\n",
        "4) The blogpost that references the video in 3. Is linked here:\n",
        "https://towardsdatascience.com/illustrated-guide-to-lstms-and-gru-s-a-step-by-step-explanation-44e9eb85bf21\n",
        "\n",
        "5) This is the link from Andrew NG, I studied to understand, why we use BatchNormalization in the CNN:\n",
        "https://www.youtube.com/watch?v=nUUqwaxLnWs\n",
        "\n",
        "6) Running on CPU vs GPU vs TPU???\n",
        "https://serverguy.com/comparison/cpu-vs-gpu-vs-tpu/\n",
        "\n",
        "\n"
      ]
    }
  ]
}