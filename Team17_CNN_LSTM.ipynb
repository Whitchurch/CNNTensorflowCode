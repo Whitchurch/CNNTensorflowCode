{
  "nbformat": 4,
  "nbformat_minor": 0,
  "metadata": {
    "colab": {
      "name": "Team17_CNN_LSTM.ipynb",
      "provenance": [],
      "collapsed_sections": [],
      "authorship_tag": "ABX9TyNHQi3hH2/KrZ3p+hgTEdrz",
      "include_colab_link": true
    },
    "kernelspec": {
      "name": "python3",
      "display_name": "Python 3"
    },
    "language_info": {
      "name": "python"
    }
  },
  "cells": [
    {
      "cell_type": "markdown",
      "metadata": {
        "id": "view-in-github",
        "colab_type": "text"
      },
      "source": [
        "<a href=\"https://colab.research.google.com/github/Whitchurch/CNNTensorflowCode/blob/main/Team17_CNN_LSTM.ipynb\" target=\"_parent\"><img src=\"https://colab.research.google.com/assets/colab-badge.svg\" alt=\"Open In Colab\"/></a>"
      ]
    },
    {
      "cell_type": "code",
      "metadata": {
        "id": "DJCjQ8fSb-M1",
        "colab": {
          "base_uri": "https://localhost:8080/"
        },
        "outputId": "9e585f76-5cd0-442d-d5b3-28047eb329d1"
      },
      "source": [
        "!pip install tensorflow-GPU"
      ],
      "execution_count": 1,
      "outputs": [
        {
          "output_type": "stream",
          "name": "stdout",
          "text": [
            "Collecting tensorflow-GPU\n",
            "  Downloading tensorflow_gpu-2.6.0-cp37-cp37m-manylinux2010_x86_64.whl (458.3 MB)\n",
            "\u001b[K     |████████████████████████████████| 458.3 MB 11 kB/s \n",
            "\u001b[?25hRequirement already satisfied: absl-py~=0.10 in /usr/local/lib/python3.7/dist-packages (from tensorflow-GPU) (0.12.0)\n",
            "Requirement already satisfied: google-pasta~=0.2 in /usr/local/lib/python3.7/dist-packages (from tensorflow-GPU) (0.2.0)\n",
            "Requirement already satisfied: clang~=5.0 in /usr/local/lib/python3.7/dist-packages (from tensorflow-GPU) (5.0)\n",
            "Requirement already satisfied: typing-extensions~=3.7.4 in /usr/local/lib/python3.7/dist-packages (from tensorflow-GPU) (3.7.4.3)\n",
            "Requirement already satisfied: keras-preprocessing~=1.1.2 in /usr/local/lib/python3.7/dist-packages (from tensorflow-GPU) (1.1.2)\n",
            "Requirement already satisfied: numpy~=1.19.2 in /usr/local/lib/python3.7/dist-packages (from tensorflow-GPU) (1.19.5)\n",
            "Requirement already satisfied: tensorflow-estimator~=2.6 in /usr/local/lib/python3.7/dist-packages (from tensorflow-GPU) (2.6.0)\n",
            "Requirement already satisfied: grpcio<2.0,>=1.37.0 in /usr/local/lib/python3.7/dist-packages (from tensorflow-GPU) (1.41.0)\n",
            "Requirement already satisfied: wheel~=0.35 in /usr/local/lib/python3.7/dist-packages (from tensorflow-GPU) (0.37.0)\n",
            "Requirement already satisfied: keras~=2.6 in /usr/local/lib/python3.7/dist-packages (from tensorflow-GPU) (2.6.0)\n",
            "Requirement already satisfied: flatbuffers~=1.12.0 in /usr/local/lib/python3.7/dist-packages (from tensorflow-GPU) (1.12)\n",
            "Requirement already satisfied: wrapt~=1.12.1 in /usr/local/lib/python3.7/dist-packages (from tensorflow-GPU) (1.12.1)\n",
            "Requirement already satisfied: h5py~=3.1.0 in /usr/local/lib/python3.7/dist-packages (from tensorflow-GPU) (3.1.0)\n",
            "Requirement already satisfied: opt-einsum~=3.3.0 in /usr/local/lib/python3.7/dist-packages (from tensorflow-GPU) (3.3.0)\n",
            "Requirement already satisfied: gast==0.4.0 in /usr/local/lib/python3.7/dist-packages (from tensorflow-GPU) (0.4.0)\n",
            "Requirement already satisfied: protobuf>=3.9.2 in /usr/local/lib/python3.7/dist-packages (from tensorflow-GPU) (3.17.3)\n",
            "Requirement already satisfied: six~=1.15.0 in /usr/local/lib/python3.7/dist-packages (from tensorflow-GPU) (1.15.0)\n",
            "Requirement already satisfied: tensorboard~=2.6 in /usr/local/lib/python3.7/dist-packages (from tensorflow-GPU) (2.6.0)\n",
            "Requirement already satisfied: termcolor~=1.1.0 in /usr/local/lib/python3.7/dist-packages (from tensorflow-GPU) (1.1.0)\n",
            "Requirement already satisfied: astunparse~=1.6.3 in /usr/local/lib/python3.7/dist-packages (from tensorflow-GPU) (1.6.3)\n",
            "Requirement already satisfied: cached-property in /usr/local/lib/python3.7/dist-packages (from h5py~=3.1.0->tensorflow-GPU) (1.5.2)\n",
            "Requirement already satisfied: markdown>=2.6.8 in /usr/local/lib/python3.7/dist-packages (from tensorboard~=2.6->tensorflow-GPU) (3.3.4)\n",
            "Requirement already satisfied: tensorboard-plugin-wit>=1.6.0 in /usr/local/lib/python3.7/dist-packages (from tensorboard~=2.6->tensorflow-GPU) (1.8.0)\n",
            "Requirement already satisfied: setuptools>=41.0.0 in /usr/local/lib/python3.7/dist-packages (from tensorboard~=2.6->tensorflow-GPU) (57.4.0)\n",
            "Requirement already satisfied: werkzeug>=0.11.15 in /usr/local/lib/python3.7/dist-packages (from tensorboard~=2.6->tensorflow-GPU) (1.0.1)\n",
            "Requirement already satisfied: google-auth<2,>=1.6.3 in /usr/local/lib/python3.7/dist-packages (from tensorboard~=2.6->tensorflow-GPU) (1.35.0)\n",
            "Requirement already satisfied: requests<3,>=2.21.0 in /usr/local/lib/python3.7/dist-packages (from tensorboard~=2.6->tensorflow-GPU) (2.23.0)\n",
            "Requirement already satisfied: google-auth-oauthlib<0.5,>=0.4.1 in /usr/local/lib/python3.7/dist-packages (from tensorboard~=2.6->tensorflow-GPU) (0.4.6)\n",
            "Requirement already satisfied: tensorboard-data-server<0.7.0,>=0.6.0 in /usr/local/lib/python3.7/dist-packages (from tensorboard~=2.6->tensorflow-GPU) (0.6.1)\n",
            "Requirement already satisfied: cachetools<5.0,>=2.0.0 in /usr/local/lib/python3.7/dist-packages (from google-auth<2,>=1.6.3->tensorboard~=2.6->tensorflow-GPU) (4.2.4)\n",
            "Requirement already satisfied: rsa<5,>=3.1.4 in /usr/local/lib/python3.7/dist-packages (from google-auth<2,>=1.6.3->tensorboard~=2.6->tensorflow-GPU) (4.7.2)\n",
            "Requirement already satisfied: pyasn1-modules>=0.2.1 in /usr/local/lib/python3.7/dist-packages (from google-auth<2,>=1.6.3->tensorboard~=2.6->tensorflow-GPU) (0.2.8)\n",
            "Requirement already satisfied: requests-oauthlib>=0.7.0 in /usr/local/lib/python3.7/dist-packages (from google-auth-oauthlib<0.5,>=0.4.1->tensorboard~=2.6->tensorflow-GPU) (1.3.0)\n",
            "Requirement already satisfied: importlib-metadata in /usr/local/lib/python3.7/dist-packages (from markdown>=2.6.8->tensorboard~=2.6->tensorflow-GPU) (4.8.1)\n",
            "Requirement already satisfied: pyasn1<0.5.0,>=0.4.6 in /usr/local/lib/python3.7/dist-packages (from pyasn1-modules>=0.2.1->google-auth<2,>=1.6.3->tensorboard~=2.6->tensorflow-GPU) (0.4.8)\n",
            "Requirement already satisfied: certifi>=2017.4.17 in /usr/local/lib/python3.7/dist-packages (from requests<3,>=2.21.0->tensorboard~=2.6->tensorflow-GPU) (2021.5.30)\n",
            "Requirement already satisfied: idna<3,>=2.5 in /usr/local/lib/python3.7/dist-packages (from requests<3,>=2.21.0->tensorboard~=2.6->tensorflow-GPU) (2.10)\n",
            "Requirement already satisfied: urllib3!=1.25.0,!=1.25.1,<1.26,>=1.21.1 in /usr/local/lib/python3.7/dist-packages (from requests<3,>=2.21.0->tensorboard~=2.6->tensorflow-GPU) (1.24.3)\n",
            "Requirement already satisfied: chardet<4,>=3.0.2 in /usr/local/lib/python3.7/dist-packages (from requests<3,>=2.21.0->tensorboard~=2.6->tensorflow-GPU) (3.0.4)\n",
            "Requirement already satisfied: oauthlib>=3.0.0 in /usr/local/lib/python3.7/dist-packages (from requests-oauthlib>=0.7.0->google-auth-oauthlib<0.5,>=0.4.1->tensorboard~=2.6->tensorflow-GPU) (3.1.1)\n",
            "Requirement already satisfied: zipp>=0.5 in /usr/local/lib/python3.7/dist-packages (from importlib-metadata->markdown>=2.6.8->tensorboard~=2.6->tensorflow-GPU) (3.6.0)\n",
            "Installing collected packages: tensorflow-GPU\n",
            "Successfully installed tensorflow-GPU-2.6.0\n"
          ]
        }
      ]
    },
    {
      "cell_type": "code",
      "metadata": {
        "id": "NI8e-OL5rtyG",
        "colab": {
          "base_uri": "https://localhost:8080/"
        },
        "outputId": "eaaf6a60-00e6-4c72-e792-c47d7df4f115"
      },
      "source": [
        "from google.colab import drive\n",
        "drive.mount('/content/drive')"
      ],
      "execution_count": 2,
      "outputs": [
        {
          "output_type": "stream",
          "name": "stdout",
          "text": [
            "Mounted at /content/drive\n"
          ]
        }
      ]
    },
    {
      "cell_type": "markdown",
      "metadata": {
        "id": "oxKbf6z3cT3G"
      },
      "source": [
        "Install Tensorflow on Google Co-lab"
      ]
    },
    {
      "cell_type": "code",
      "metadata": {
        "id": "7zNXb0FNcr7S"
      },
      "source": [
        "import tensorflow as tf\n",
        "import numpy as np\n",
        "import matplotlib.pyplot as plt\n",
        "import os\n",
        "import csv \n",
        "from tensorflow import keras\n",
        "from keras.layers import Dense\n",
        "from keras.layers import Conv2D\n",
        "from keras.layers import MaxPooling2D\n",
        "from keras.layers import BatchNormalization\n",
        "from keras.layers import AveragePooling2D\n",
        "from keras.layers import Flatten\n",
        "from keras.layers import CuDNNLSTM # A superior LSTM that uses GPU more optimized for training.\n",
        "from keras.layers import LSTM\n",
        "from keras.models import Sequential"
      ],
      "execution_count": 3,
      "outputs": []
    },
    {
      "cell_type": "markdown",
      "metadata": {
        "id": "8YCMbF1LslRM"
      },
      "source": [
        "Steps to pre-process and load the data"
      ]
    },
    {
      "cell_type": "code",
      "metadata": {
        "id": "q76uho-Lsp47"
      },
      "source": [
        "os.chdir(\"drive/My Drive/Colab Notebooks\")\n"
      ],
      "execution_count": 4,
      "outputs": []
    },
    {
      "cell_type": "code",
      "metadata": {
        "colab": {
          "base_uri": "https://localhost:8080/"
        },
        "id": "bPKqnFBNszh3",
        "outputId": "4b456388-9334-42c3-e0d0-4874080dd7af"
      },
      "source": [
        "ls"
      ],
      "execution_count": 5,
      "outputs": [
        {
          "output_type": "stream",
          "name": "stdout",
          "text": [
            " Access_Local_directory.ipynb\n",
            "'Copy of Untitled0.ipynb'\n",
            " ECGsignal2700.csv\n",
            " ECGsignal.csv\n",
            " ECGsignal_n2700.csv\n",
            " ECGsignal_n.csv\n",
            " ECGsignal_nwhite.csv\n",
            " Exercise_1_Cats_vs_Dogs_Question-FINAL.ipynb\n",
            " Exercise_2_Cats_vs_Dogs_using_augmentation_Question-FINAL.ipynb\n",
            " Exercise_3_Horses_vs_humans_using_Transfer_Learning_Question-FINAL.ipynb\n",
            " Exercise_4_Multi_class_classifier_Question-FINAL.ipynb\n",
            " FinalCNN_Beginner.ipynb\n",
            " Team17_CNN_LSTM.ipynb\n",
            " Untitled0.ipynb\n",
            " Untitled1.ipynb\n",
            " Untitled2.ipynb\n"
          ]
        }
      ]
    },
    {
      "cell_type": "code",
      "metadata": {
        "colab": {
          "base_uri": "https://localhost:8080/"
        },
        "id": "P_WYmzcttPiG",
        "outputId": "402163b8-5599-441e-f3c8-6f18eac38678"
      },
      "source": [
        "#Read the clean signal\n",
        "with open('ECGsignal2700.csv') as csv_file:\n",
        "  csv_reader = csv.reader(csv_file)\n",
        "\n",
        "  for ECGsignal in csv_reader:\n",
        "    print(ECGsignal)\n",
        "  print(\"Finished reading the file\")\n",
        "\n",
        "#Time to dissect the file read data's anatomy:\n",
        "#Total number of items in the list:\n",
        "len(ECGsignal)\n",
        "\n",
        "#Convert the list to an array \n",
        "ECGsignal_arr = np.array(ECGsignal,dtype=float)\n",
        "\n",
        "#Read the noisy signal\n",
        "with open('ECGsignal_n2700.csv') as csv_file:\n",
        "  csv_reader = csv.reader(csv_file)\n",
        "\n",
        "  for ECGsignal_n in csv_reader:\n",
        "    print(ECGsignal_n)\n",
        "  print(\"Finished reading the file\")\n",
        "\n",
        "#Time to dissect the file read data's anatomy:\n",
        "#Total number of items in the list:\n",
        "len(ECGsignal_n)\n",
        "\n",
        "#Convert the list to an array \n",
        "ECGsignal_n_arr = np.array(ECGsignal_n,dtype=float)"
      ],
      "execution_count": 6,
      "outputs": [
        {
          "output_type": "stream",
          "name": "stderr",
          "text": [
            "IOPub data rate exceeded.\n",
            "The notebook server will temporarily stop sending output\n",
            "to the client in order to avoid crashing it.\n",
            "To change this limit, set the config variable\n",
            "`--NotebookApp.iopub_data_rate_limit`.\n",
            "\n",
            "Current values:\n",
            "NotebookApp.iopub_data_rate_limit=1000000.0 (bytes/sec)\n",
            "NotebookApp.rate_limit_window=3.0 (secs)\n",
            "\n"
          ]
        }
      ]
    },
    {
      "cell_type": "code",
      "metadata": {
        "id": "z2YBfWXfv5Ke",
        "colab": {
          "base_uri": "https://localhost:8080/"
        },
        "outputId": "b9283a42-b548-4468-c880-3f3933ef7294"
      },
      "source": [
        "tupleofdimensions = ECGsignal_arr.shape\n",
        "num = tupleofdimensions[0]\n",
        "Training_test_Split = 0.95  # Modify this line to control the Test-Train split\n",
        "\n",
        "a=Training_test_Split*num;                                 \n",
        "XTrain=ECGsignal_n_arr[0:int(a)];                  \n",
        "YTrain=ECGsignal_arr[0:int(a)];\n",
        "XTest=ECGsignal_n_arr[int(a):num];               \n",
        "YTest=ECGsignal_arr[int(a):num];\n",
        "scaling_factor = num/(5400000)\n",
        "train_samples=(30*60*Training_test_Split/10)*scaling_factor;\n",
        "test_samples =(30*60*(1-Training_test_Split)/10)*scaling_factor;\n",
        "\n",
        "print(XTrain.shape)\n",
        "print(XTest.shape)\n",
        "print(int(train_samples))\n",
        "print(int(test_samples))"
      ],
      "execution_count": 7,
      "outputs": [
        {
          "output_type": "stream",
          "name": "stdout",
          "text": [
            "(25650000,)\n",
            "(1350000,)\n",
            "855\n",
            "45\n"
          ]
        }
      ]
    },
    {
      "cell_type": "code",
      "metadata": {
        "colab": {
          "base_uri": "https://localhost:8080/"
        },
        "id": "Q5Kbn3vsRXFX",
        "outputId": "6a0227c1-3cbf-4d05-d935-87df83e96346"
      },
      "source": [
        "print(YTrain.shape)\n",
        "print(YTest.shape)"
      ],
      "execution_count": 8,
      "outputs": [
        {
          "output_type": "stream",
          "name": "stdout",
          "text": [
            "(25650000,)\n",
            "(1350000,)\n"
          ]
        }
      ]
    },
    {
      "cell_type": "markdown",
      "metadata": {
        "id": "94xeGV8y1Gyg"
      },
      "source": [
        "Break up the Train and Test data into 4D vectors for the Tensorflow CNN: Format is [Batch_size,Height,width,depth]\n",
        "\n",
        "Reference:https://towardsdatascience.com/understanding-input-and-output-shapes-in-convolution-network-keras-f143923d56ca"
      ]
    },
    {
      "cell_type": "code",
      "metadata": {
        "id": "XQwVYV0r1UYy",
        "colab": {
          "base_uri": "https://localhost:8080/"
        },
        "outputId": "c588b734-9759-4161-9a85-0636097b1e80"
      },
      "source": [
        "XTrain_reshaped = np.reshape(XTrain,(int(train_samples),30000,1,1))\n",
        "YTrain_reshaped = np.reshape(YTrain,(int(train_samples),30000))\n",
        "\n",
        "XTest_reshaped = np.reshape(XTest,(int(test_samples),30000,1,1))\n",
        "YTest_reshaped = np.reshape(YTest,(int(test_samples),30000))\n",
        "\n",
        "print(XTest_reshaped.shape)\n",
        "print(XTrain_reshaped.shape)\n",
        "\n",
        "\n",
        "\n"
      ],
      "execution_count": 9,
      "outputs": [
        {
          "output_type": "stream",
          "name": "stdout",
          "text": [
            "(45, 30000, 1, 1)\n",
            "(855, 30000, 1, 1)\n"
          ]
        }
      ]
    },
    {
      "cell_type": "markdown",
      "metadata": {
        "id": "_DS4G6DNdkC3"
      },
      "source": [
        "Start defining the layers of the CNN - From the De-noising paper"
      ]
    },
    {
      "cell_type": "code",
      "metadata": {
        "id": "ppaaL62fdjsJ",
        "colab": {
          "base_uri": "https://localhost:8080/",
          "height": 1000
        },
        "outputId": "56f79f74-7239-4514-d089-03584592097a"
      },
      "source": [
        "model = Sequential(name=\"DNN_using_CNN_for_Denoising\")\n",
        "\n",
        "# Convolution layers are used to extract the most prominent features of the input data.\n",
        "#Layer 1:\n",
        "#Conv-layer -> BatchNorm -> RELU-> AvdPooling\n",
        "model.add(Conv2D(36, (19,1), input_shape=(30000,1,1),activation='relu',padding='SAME',strides=(1,1),name='conv_1')) \n",
        "model.add(BatchNormalization(name='batchnorm_1'))\n",
        "model.add(Dense(units=36,activation='relu',name='relu_1'))\n",
        "model.add(AveragePooling2D(pool_size=(2,1),strides=(4,1),name='avgpool_1'))\n",
        "\n",
        "#Layer 2:\n",
        "#Conv-layer -> BatchNorm -> RELU-> AvdPooling\n",
        "model.add(Conv2D(36,(19,1),strides=(1,1),padding='SAME',name='conv_2'))\n",
        "model.add(BatchNormalization(name='batchnorm_2'))\n",
        "model.add(Dense(units=36,activation='relu',name='relu_2'))\n",
        "model.add(AveragePooling2D(pool_size=(2,1),strides=(4,1),name='avgpool_2'))\n",
        "\n",
        "#Layer 3:\n",
        "#Conv-layer -> BatchNorm -> RELU-> AvdPooling\n",
        "model.add(Conv2D(36,(19,1),strides=(1,1),padding='SAME',name='conv_3'))\n",
        "model.add(BatchNormalization(name='batchnorm_3'))\n",
        "model.add(Dense(units=36,activation='relu',name='relu_3'))\n",
        "model.add(AveragePooling2D(pool_size=(2,1),strides=(4,1),name='avgpool_3'))\n",
        "\n",
        "#Layer 4:\n",
        "#Conv-layer -> BatchNorm -> RELU-> AvdPooling\n",
        "model.add(Conv2D(36,(19,1),strides=(1,1),padding='SAME',name='conv_4'))\n",
        "model.add(BatchNormalization(name='batchnorm_4'))\n",
        "model.add(Dense(units=36,activation='relu',name='relu_4'))\n",
        "model.add(AveragePooling2D(pool_size=(2,1),strides=(4,1),name='avgpool_4'))\n",
        "\n",
        "\n",
        "#Layer 5:\n",
        "#Conv-layer -> BatchNorm -> RELU-> AvdPooling\n",
        "model.add(Conv2D(36,(19,1),strides=(1,1),padding='SAME',name='conv_5'))\n",
        "model.add(BatchNormalization(name='batchnorm_5'))\n",
        "model.add(Dense(units=36,activation='relu',name='relu_5'))\n",
        "model.add(AveragePooling2D(pool_size=(2,1),strides=(4,1),name='avgpool_5'))\n",
        "\n",
        "\n",
        "#Layer 6:\n",
        "#Conv-layer -> BatchNorm -> RELU-> AvdPooling\n",
        "model.add(Conv2D(36,(19,1),strides=(1,1),padding='SAME',name='conv_6'))\n",
        "model.add(BatchNormalization(name='batchnorm_6'))\n",
        "model.add(Dense(units=36,activation='relu',name='relu_6'))\n",
        "model.add(AveragePooling2D(pool_size=(2,1),strides=(4,1),name='avgpool_6'))\n",
        "model.add(Flatten())\n",
        "\n",
        "#Now adding in the fully-connected dense layer: This will act on the data extracted from the CNN in the prior stages\n",
        "model.add(Dense(units= 30000,activation=None,use_bias=True))\n",
        "model.summary()\n",
        "\n",
        "#Last layer of the FCN is only showing the inputsx weight.  \n",
        "#Investigating to see, if the bias is used. even though model summary is not displaying it.\n",
        "#weights, biases = model.layers[25].get_weights()\n",
        "#print(len(weights))\n",
        "#print(len(biases))\n",
        "\n",
        "#Build the model, we follow the paper, using Adam optimizer, for speeding up gradient descent\n",
        "#And RMS as the cost function, metric to optimize against.\n",
        "\n",
        "#Compile the model\n",
        "model.compile(optimizer='adam',loss='mean_squared_error',metrics=['mse'])\n",
        "\n",
        "#Fit the model.\n",
        "# Train the Model\n",
        "#history = model.fit_generator(train_generator,validation_data = validation_generator, epochs = 10,steps_per_epoch = 1372, validation_steps = 350,verbose = 1 )\n",
        "history = model.fit(XTrain_reshaped,YTrain_reshaped,epochs=40,verbose=2,validation_data=(XTest_reshaped,YTest_reshaped))\n",
        "\n",
        "# Plot the chart for accuracy and loss on both training and validation\n",
        "%matplotlib inline\n",
        "import matplotlib.pyplot as plt\n",
        "mse = history.history['mse']\n",
        "val_mse = history.history['val_mse']\n",
        "\n",
        "\n",
        "epochs = range(len(mse))\n",
        "\n",
        "plt.plot(epochs, mse, 'r', label='MSE')\n",
        "plt.plot(epochs, val_mse, 'b', label='Validation MSE')\n",
        "plt.title('Training and validation MSE')\n",
        "plt.legend()\n",
        "plt.figure()\n",
        "plt.ylabel('Mean Square Error')\n",
        "plt.xlabel('Epochs')\n",
        "plt.show()\n",
        "                                    "
      ],
      "execution_count": 10,
      "outputs": [
        {
          "output_type": "stream",
          "name": "stdout",
          "text": [
            "Model: \"DNN_using_CNN_for_Denoising\"\n",
            "_________________________________________________________________\n",
            "Layer (type)                 Output Shape              Param #   \n",
            "=================================================================\n",
            "conv_1 (Conv2D)              (None, 30000, 1, 36)      720       \n",
            "_________________________________________________________________\n",
            "batchnorm_1 (BatchNormalizat (None, 30000, 1, 36)      144       \n",
            "_________________________________________________________________\n",
            "relu_1 (Dense)               (None, 30000, 1, 36)      1332      \n",
            "_________________________________________________________________\n",
            "avgpool_1 (AveragePooling2D) (None, 7500, 1, 36)       0         \n",
            "_________________________________________________________________\n",
            "conv_2 (Conv2D)              (None, 7500, 1, 36)       24660     \n",
            "_________________________________________________________________\n",
            "batchnorm_2 (BatchNormalizat (None, 7500, 1, 36)       144       \n",
            "_________________________________________________________________\n",
            "relu_2 (Dense)               (None, 7500, 1, 36)       1332      \n",
            "_________________________________________________________________\n",
            "avgpool_2 (AveragePooling2D) (None, 1875, 1, 36)       0         \n",
            "_________________________________________________________________\n",
            "conv_3 (Conv2D)              (None, 1875, 1, 36)       24660     \n",
            "_________________________________________________________________\n",
            "batchnorm_3 (BatchNormalizat (None, 1875, 1, 36)       144       \n",
            "_________________________________________________________________\n",
            "relu_3 (Dense)               (None, 1875, 1, 36)       1332      \n",
            "_________________________________________________________________\n",
            "avgpool_3 (AveragePooling2D) (None, 469, 1, 36)        0         \n",
            "_________________________________________________________________\n",
            "conv_4 (Conv2D)              (None, 469, 1, 36)        24660     \n",
            "_________________________________________________________________\n",
            "batchnorm_4 (BatchNormalizat (None, 469, 1, 36)        144       \n",
            "_________________________________________________________________\n",
            "relu_4 (Dense)               (None, 469, 1, 36)        1332      \n",
            "_________________________________________________________________\n",
            "avgpool_4 (AveragePooling2D) (None, 117, 1, 36)        0         \n",
            "_________________________________________________________________\n",
            "conv_5 (Conv2D)              (None, 117, 1, 36)        24660     \n",
            "_________________________________________________________________\n",
            "batchnorm_5 (BatchNormalizat (None, 117, 1, 36)        144       \n",
            "_________________________________________________________________\n",
            "relu_5 (Dense)               (None, 117, 1, 36)        1332      \n",
            "_________________________________________________________________\n",
            "avgpool_5 (AveragePooling2D) (None, 29, 1, 36)         0         \n",
            "_________________________________________________________________\n",
            "conv_6 (Conv2D)              (None, 29, 1, 36)         24660     \n",
            "_________________________________________________________________\n",
            "batchnorm_6 (BatchNormalizat (None, 29, 1, 36)         144       \n",
            "_________________________________________________________________\n",
            "relu_6 (Dense)               (None, 29, 1, 36)         1332      \n",
            "_________________________________________________________________\n",
            "avgpool_6 (AveragePooling2D) (None, 7, 1, 36)          0         \n",
            "_________________________________________________________________\n",
            "flatten (Flatten)            (None, 252)               0         \n",
            "_________________________________________________________________\n",
            "dense (Dense)                (None, 30000)             7590000   \n",
            "=================================================================\n",
            "Total params: 7,722,876\n",
            "Trainable params: 7,722,444\n",
            "Non-trainable params: 432\n",
            "_________________________________________________________________\n",
            "Epoch 1/40\n",
            "27/27 - 110s - loss: 0.1583 - mse: 0.1583 - val_loss: 8.1310 - val_mse: 8.1310\n",
            "Epoch 2/40\n",
            "27/27 - 106s - loss: 0.1202 - mse: 0.1202 - val_loss: 1.4309 - val_mse: 1.4309\n",
            "Epoch 3/40\n",
            "27/27 - 107s - loss: 0.1153 - mse: 0.1153 - val_loss: 1.4267 - val_mse: 1.4267\n",
            "Epoch 4/40\n",
            "27/27 - 107s - loss: 0.1120 - mse: 0.1120 - val_loss: 0.8826 - val_mse: 0.8826\n",
            "Epoch 5/40\n",
            "27/27 - 107s - loss: 0.1082 - mse: 0.1082 - val_loss: 0.5578 - val_mse: 0.5578\n",
            "Epoch 6/40\n",
            "27/27 - 107s - loss: 0.1041 - mse: 0.1041 - val_loss: 0.3155 - val_mse: 0.3155\n",
            "Epoch 7/40\n",
            "27/27 - 107s - loss: 0.0989 - mse: 0.0989 - val_loss: 0.1363 - val_mse: 0.1363\n",
            "Epoch 8/40\n",
            "27/27 - 108s - loss: 0.0949 - mse: 0.0949 - val_loss: 0.1238 - val_mse: 0.1238\n",
            "Epoch 9/40\n",
            "27/27 - 107s - loss: 0.0901 - mse: 0.0901 - val_loss: 0.1396 - val_mse: 0.1396\n",
            "Epoch 10/40\n",
            "27/27 - 106s - loss: 0.0856 - mse: 0.0856 - val_loss: 0.1286 - val_mse: 0.1286\n",
            "Epoch 11/40\n",
            "27/27 - 107s - loss: 0.0824 - mse: 0.0824 - val_loss: 0.1033 - val_mse: 0.1033\n",
            "Epoch 12/40\n",
            "27/27 - 106s - loss: 0.0789 - mse: 0.0789 - val_loss: 0.1187 - val_mse: 0.1187\n",
            "Epoch 13/40\n",
            "27/27 - 107s - loss: 0.0762 - mse: 0.0762 - val_loss: 0.0939 - val_mse: 0.0939\n",
            "Epoch 14/40\n",
            "27/27 - 107s - loss: 0.0734 - mse: 0.0734 - val_loss: 0.0844 - val_mse: 0.0844\n",
            "Epoch 15/40\n",
            "27/27 - 106s - loss: 0.0710 - mse: 0.0710 - val_loss: 0.1035 - val_mse: 0.1035\n",
            "Epoch 16/40\n",
            "27/27 - 105s - loss: 0.0731 - mse: 0.0731 - val_loss: 0.1065 - val_mse: 0.1065\n",
            "Epoch 17/40\n",
            "27/27 - 106s - loss: 0.0685 - mse: 0.0685 - val_loss: 0.0913 - val_mse: 0.0913\n",
            "Epoch 18/40\n",
            "27/27 - 107s - loss: 0.0669 - mse: 0.0669 - val_loss: 0.0759 - val_mse: 0.0759\n",
            "Epoch 19/40\n",
            "27/27 - 107s - loss: 0.0648 - mse: 0.0648 - val_loss: 0.1331 - val_mse: 0.1331\n",
            "Epoch 20/40\n",
            "27/27 - 107s - loss: 0.0620 - mse: 0.0620 - val_loss: 0.0941 - val_mse: 0.0941\n",
            "Epoch 21/40\n",
            "27/27 - 106s - loss: 0.0592 - mse: 0.0592 - val_loss: 0.0796 - val_mse: 0.0796\n",
            "Epoch 22/40\n",
            "27/27 - 106s - loss: 0.0589 - mse: 0.0589 - val_loss: 0.0752 - val_mse: 0.0752\n",
            "Epoch 23/40\n",
            "27/27 - 106s - loss: 0.0568 - mse: 0.0568 - val_loss: 0.0726 - val_mse: 0.0726\n",
            "Epoch 24/40\n",
            "27/27 - 105s - loss: 0.0588 - mse: 0.0588 - val_loss: 0.0615 - val_mse: 0.0615\n",
            "Epoch 25/40\n",
            "27/27 - 106s - loss: 0.0587 - mse: 0.0587 - val_loss: 0.1001 - val_mse: 0.1001\n",
            "Epoch 26/40\n",
            "27/27 - 106s - loss: 0.0545 - mse: 0.0545 - val_loss: 0.0706 - val_mse: 0.0706\n",
            "Epoch 27/40\n",
            "27/27 - 105s - loss: 0.0542 - mse: 0.0542 - val_loss: 0.0670 - val_mse: 0.0670\n",
            "Epoch 28/40\n",
            "27/27 - 105s - loss: 0.0547 - mse: 0.0547 - val_loss: 0.0670 - val_mse: 0.0670\n",
            "Epoch 29/40\n",
            "27/27 - 105s - loss: 0.0555 - mse: 0.0555 - val_loss: 0.0685 - val_mse: 0.0685\n",
            "Epoch 30/40\n",
            "27/27 - 106s - loss: 0.0529 - mse: 0.0529 - val_loss: 0.0644 - val_mse: 0.0644\n",
            "Epoch 31/40\n",
            "27/27 - 106s - loss: 0.0505 - mse: 0.0505 - val_loss: 0.0591 - val_mse: 0.0591\n",
            "Epoch 32/40\n",
            "27/27 - 106s - loss: 0.0522 - mse: 0.0522 - val_loss: 0.0652 - val_mse: 0.0652\n",
            "Epoch 33/40\n",
            "27/27 - 105s - loss: 0.0496 - mse: 0.0496 - val_loss: 0.0885 - val_mse: 0.0885\n",
            "Epoch 34/40\n",
            "27/27 - 105s - loss: 0.0478 - mse: 0.0478 - val_loss: 0.0750 - val_mse: 0.0750\n",
            "Epoch 35/40\n",
            "27/27 - 107s - loss: 0.0468 - mse: 0.0468 - val_loss: 0.0730 - val_mse: 0.0730\n",
            "Epoch 36/40\n",
            "27/27 - 108s - loss: 0.0462 - mse: 0.0462 - val_loss: 0.0519 - val_mse: 0.0519\n",
            "Epoch 37/40\n",
            "27/27 - 107s - loss: 0.0446 - mse: 0.0446 - val_loss: 0.0490 - val_mse: 0.0490\n",
            "Epoch 38/40\n",
            "27/27 - 107s - loss: 0.0436 - mse: 0.0436 - val_loss: 0.0534 - val_mse: 0.0534\n",
            "Epoch 39/40\n",
            "27/27 - 106s - loss: 0.0453 - mse: 0.0453 - val_loss: 0.0603 - val_mse: 0.0603\n",
            "Epoch 40/40\n",
            "27/27 - 105s - loss: 0.0429 - mse: 0.0429 - val_loss: 0.0439 - val_mse: 0.0439\n"
          ]
        },
        {
          "output_type": "display_data",
          "data": {
            "image/png": "[encoded data removed]",
            "text/plain": [
              "<Figure size 432x288 with 1 Axes>"
            ]
          },
          "metadata": {
            "needs_background": "light"
          }
        },
        {
          "output_type": "display_data",
          "data": {
            "image/png": "[encoded data removed]",
            "text/plain": [
              "<Figure size 432x288 with 1 Axes>"
            ]
          },
          "metadata": {
            "needs_background": "light"
          }
        }
      ]
    },
    {
      "cell_type": "code",
      "metadata": {
        "colab": {
          "base_uri": "https://localhost:8080/"
        },
        "id": "EP67PYb9oX6A",
        "outputId": "ee9d71df-1a2f-479b-c6a2-92bb52eae96d"
      },
      "source": [
        "#Save the model trained for 40 epochs.\n",
        "model.save('CNN_40_Epochs.model')"
      ],
      "execution_count": 11,
      "outputs": [
        {
          "output_type": "stream",
          "name": "stdout",
          "text": [
            "INFO:tensorflow:Assets written to: CNN_40_Epochs.model/assets\n"
          ]
        }
      ]
    },
    {
      "cell_type": "markdown",
      "metadata": {
        "id": "ctShmsIAebCZ"
      },
      "source": [
        "CHARTS:"
      ]
    },
    {
      "cell_type": "markdown",
      "metadata": {
        "id": "1ZyKCQKUAdZT"
      },
      "source": [
        "Sample Data plots:"
      ]
    },
    {
      "cell_type": "markdown",
      "metadata": {
        "id": "XS_5KlLgKIrJ"
      },
      "source": [
        "OUTPUT EXPECTED ECG PLOT:"
      ]
    },
    {
      "cell_type": "code",
      "metadata": {
        "colab": {
          "base_uri": "https://localhost:8080/",
          "height": 294
        },
        "id": "QjSrmHI1AjNV",
        "outputId": "e47ccdf1-ca72-4747-84d0-acb07e32a827"
      },
      "source": [
        "#Plot few samples of the output Test data:\n",
        "plt.plot(YTest)\n",
        "plt.title('Expected Output ECG Sample')\n",
        "plt.ylabel('ECG Signal amplitude')\n",
        "plt.show()\n"
      ],
      "execution_count": 12,
      "outputs": [
        {
          "output_type": "display_data",
          "data": {
            "image/png": "[encoded data removed]",
            "text/plain": [
              "<Figure size 432x288 with 1 Axes>"
            ]
          },
          "metadata": {
            "needs_background": "light"
          }
        }
      ]
    },
    {
      "cell_type": "markdown",
      "metadata": {
        "id": "fxFVsShLKMKr"
      },
      "source": [
        "INPUT NOISY ECG PLOT:"
      ]
    },
    {
      "cell_type": "code",
      "metadata": {
        "id": "u5EJxHiqehZ7",
        "colab": {
          "base_uri": "https://localhost:8080/",
          "height": 294
        },
        "outputId": "2c744d03-6a27-419b-9a83-5d56d113ba57"
      },
      "source": [
        "#Plot few samples of the input Test data:\n",
        "plt.plot(XTest)\n",
        "plt.title('Noisy input ECG Sample')\n",
        "plt.ylabel('ECG Signal amplitude')\n",
        "plt.show()"
      ],
      "execution_count": 13,
      "outputs": [
        {
          "output_type": "display_data",
          "data": {
            "image/png": "[encoded data removed]",
            "text/plain": [
              "<Figure size 432x288 with 1 Axes>"
            ]
          },
          "metadata": {
            "needs_background": "light"
          }
        }
      ]
    },
    {
      "cell_type": "markdown",
      "metadata": {
        "id": "KUNvH2b-Kdrr"
      },
      "source": [
        "CNN DENOISED ECG SIGNAL PLOT:"
      ]
    },
    {
      "cell_type": "code",
      "metadata": {
        "colab": {
          "base_uri": "https://localhost:8080/"
        },
        "id": "e3IcYiStKlOW",
        "outputId": "feb6c85c-cd47-4624-d75b-62e48cbf9dc2"
      },
      "source": [
        "#Do a prediction on the test data\n",
        "prediction = model.predict(XTest_reshaped)\n",
        "print(prediction)"
      ],
      "execution_count": 14,
      "outputs": [
        {
          "output_type": "stream",
          "name": "stdout",
          "text": [
            "[[-0.5724271  -0.6121886  -0.6090681  ... -0.59632987 -0.60083264\n",
            "  -0.57739973]\n",
            " [-0.65034014 -0.6571244  -0.6457686  ... -0.64124817 -0.6125546\n",
            "  -0.6424563 ]\n",
            " [-0.61572164 -0.64253205 -0.62179726 ... -0.6601122  -0.666089\n",
            "  -0.65421236]\n",
            " ...\n",
            " [-0.4050451  -0.42697817 -0.3916728  ... -0.507714   -0.5076643\n",
            "  -0.50347364]\n",
            " [-0.5067158  -0.53558934 -0.5378718  ... -0.43878192 -0.44770065\n",
            "  -0.43234906]\n",
            " [-0.49196148 -0.50393724 -0.5081459  ... -0.43290693 -0.4395078\n",
            "  -0.42405543]]\n"
          ]
        }
      ]
    },
    {
      "cell_type": "markdown",
      "metadata": {
        "id": "E0lOMPe7UAXr"
      },
      "source": [
        "OUTPUT RESULT without reshaping:"
      ]
    },
    {
      "cell_type": "code",
      "metadata": {
        "colab": {
          "base_uri": "https://localhost:8080/",
          "height": 281
        },
        "id": "Erz4eupeUD0W",
        "outputId": "8f3d5d7b-075a-47ac-d567-57b22cb29962"
      },
      "source": [
        "#Plot the denoised signal from the CNN\n",
        "plt.plot(prediction)\n",
        "plt.title('Denoised ECG Sample')\n",
        "plt.ylabel('ECG Signal amplitude')\n",
        "plt.show()"
      ],
      "execution_count": 15,
      "outputs": [
        {
          "output_type": "display_data",
          "data": {
            "image/png": "[encoded data removed]",
            "text/plain": [
              "<Figure size 432x288 with 1 Axes>"
            ]
          },
          "metadata": {
            "needs_background": "light"
          }
        }
      ]
    },
    {
      "cell_type": "markdown",
      "metadata": {
        "id": "rqcDC9u3UvJ0"
      },
      "source": [
        "RESHAPE and Then OUTPUT SIGNAL:"
      ]
    },
    {
      "cell_type": "code",
      "metadata": {
        "colab": {
          "base_uri": "https://localhost:8080/",
          "height": 328
        },
        "id": "0Me7XOQ-Uz-i",
        "outputId": "f5ab253d-9763-45b7-a7c9-e322678848e0"
      },
      "source": [
        "print(prediction.shape)\n",
        "prediction_reshaped = np.reshape(prediction,XTest.shape)\n",
        "print(prediction_reshaped.shape)\n",
        "\n",
        "#Plot the reshaped output signal from the CNN\n",
        "plt.plot(prediction_reshaped)\n",
        "plt.title('Denoised ECG Sample')\n",
        "plt.ylabel('ECG Signal amplitude')\n",
        "plt.show()"
      ],
      "execution_count": 16,
      "outputs": [
        {
          "output_type": "stream",
          "name": "stdout",
          "text": [
            "(45, 30000)\n",
            "(1350000,)\n"
          ]
        },
        {
          "output_type": "display_data",
          "data": {
            "image/png": "[encoded data removed]",
            "text/plain": [
              "<Figure size 432x288 with 1 Axes>"
            ]
          },
          "metadata": {
            "needs_background": "light"
          }
        }
      ]
    },
    {
      "cell_type": "markdown",
      "metadata": {
        "id": "ZOt07WKtDirw"
      },
      "source": [
        "Start defining the LSTM implementation:"
      ]
    },
    {
      "cell_type": "markdown",
      "metadata": {
        "id": "-VaLOkLGxoJ1"
      },
      "source": [
        "RE-shape the Data so that it can be used in the LSTM:  \n",
        "LSTM Input = [Sample,TimeSteps,Features]\n",
        "In out case it is: [Test/Training samples, 30000,1]\n",
        "\n",
        "Reference:\n",
        "https://machinelearningmastery.com/reshape-input-data-long-short-term-memory-networks-keras/"
      ]
    },
    {
      "cell_type": "code",
      "metadata": {
        "colab": {
          "base_uri": "https://localhost:8080/"
        },
        "id": "w2rC2nZWxr0x",
        "outputId": "61dbd7d2-0ca5-460e-ea07-4f0077287cc0"
      },
      "source": [
        "XTrain_reshaped = XTrain.reshape(int(train_samples),30000,1)\n",
        "YTrain_reshaped = YTrain.reshape(int(train_samples),30000,1)\n",
        "\n",
        "XTest_reshaped = XTest.reshape(int(test_samples),30000,1)\n",
        "YTest_reshaped = YTest.reshape(int(test_samples),30000,1)\n",
        "\n",
        "#print the input data shapes:\n",
        "print(\"Training data shapes: Input and Output\")\n",
        "print(XTrain_reshaped.shape)\n",
        "print(YTrain_reshaped.shape)\n",
        "\n",
        "print(\"Test data shapes: Input and Output\")\n",
        "print(XTest_reshaped.shape)\n",
        "print(YTest_reshaped.shape)\n"
      ],
      "execution_count": null,
      "outputs": [
        {
          "output_type": "stream",
          "name": "stdout",
          "text": [
            "Training data shapes: Input and Output\n",
            "(171, 30000, 1)\n",
            "(171, 30000, 1)\n",
            "Test data shapes: Input and Output\n",
            "(9, 30000, 1)\n",
            "(9, 30000, 1)\n"
          ]
        }
      ]
    },
    {
      "cell_type": "markdown",
      "metadata": {
        "id": "XVs4JvKHxkMo"
      },
      "source": [
        "The definition of the LSTM model follows below:"
      ]
    },
    {
      "cell_type": "code",
      "metadata": {
        "id": "pe2pXI_YDnc0",
        "colab": {
          "base_uri": "https://localhost:8080/"
        },
        "outputId": "f55e600b-5c67-4103-f35f-d23a13adb4a5"
      },
      "source": [
        "model1 = Sequential(name=\"DNN_using_LSTM_for_Denoising\");\n",
        "#The LSTM->RELU-> return sequential ouput.\n",
        "#model1.add(CuDNNLSTM(140,input_shape=(30000,1),name=\"lstm_1_relu_1\",return_sequences=True)) \n",
        "model1.add(LSTM(140,input_shape=(30000,1),name=\"lstm_1_relu_1\",activation='relu',return_sequences=True)) \n",
        "# sequential output/input -> LSTM2->Relu -> flattened output (return_sequence = false, by default)\n",
        "#The output of LSTM2 is a flattened output -> Fully connected layer.\n",
        "#model1.add(CuDNNLSTM(140,name=\"lstm_2_relu_2\"))\n",
        "model1.add(LSTM(140,name=\"lstm_2_relu_2\",activation='relu'))\n",
        "#Add the fully connected layer of 30000 \n",
        "model1.add(Dense(30000,activation=None))\n",
        "model1.summary()\n",
        "\n",
        "#Build the model, we follow the paper, using Adam optimizer, for speeding up gradient descent\n",
        "#And RMS as the cost function, metric to optimize against.\n",
        "optimizer = keras.optimizers.Adam(lr=0.01)\n",
        "#Compile the model\n",
        "model1.compile(optimizer=optimizer,loss='mean_squared_error',metrics=['mse','loss'])\n",
        "\n",
        "#Fit the model.\n",
        "# Train the Model\n",
        "history = model1.fit(XTrain_reshaped,YTrain_reshaped,epochs=1,validation_data=(XTest_reshaped,YTest_reshaped),verbose=1)\n",
        "\n",
        "# Plot the chart for accuracy and loss on both training and validation\n",
        "%matplotlib inline\n",
        "import matplotlib.pyplot as plt\n",
        "acc = history.history['mse']\n",
        "val_acc = history.history['val_mse']\n",
        "loss = history.history['loss']\n",
        "val_loss = history.history['val_loss']\n",
        "\n",
        "epochs = range(len(acc))\n",
        "\n",
        "plt.plot(epochs, acc, 'r', label='Training accuracy')\n",
        "plt.plot(epochs, val_acc, 'b', label='Validation accuracy')\n",
        "plt.title('Training and validation accuracy')\n",
        "plt.legend()\n",
        "plt.figure()\n",
        "\n",
        "plt.plot(epochs, loss, 'r', label='Training Loss')\n",
        "plt.plot(epochs, val_loss, 'b', label='Validation Loss')\n",
        "plt.title('Training and validation loss')\n",
        "plt.legend()\n",
        "\n",
        "plt.show()\n"
      ],
      "execution_count": null,
      "outputs": [
        {
          "output_type": "stream",
          "name": "stdout",
          "text": [
            "WARNING:tensorflow:Layer lstm_1_relu_1 will not use cuDNN kernels since it doesn't meet the criteria. It will use a generic GPU kernel as fallback when running on GPU.\n",
            "WARNING:tensorflow:Layer lstm_2_relu_2 will not use cuDNN kernels since it doesn't meet the criteria. It will use a generic GPU kernel as fallback when running on GPU.\n",
            "Model: \"DNN_using_LSTM_for_Denoising\"\n",
            "_________________________________________________________________\n",
            "Layer (type)                 Output Shape              Param #   \n",
            "=================================================================\n",
            "lstm_1_relu_1 (LSTM)         (None, 30000, 140)        79520     \n",
            "_________________________________________________________________\n",
            "lstm_2_relu_2 (LSTM)         (None, 140)               157360    \n",
            "_________________________________________________________________\n",
            "dense_2 (Dense)              (None, 30000)             4230000   \n",
            "=================================================================\n",
            "Total params: 4,466,880\n",
            "Trainable params: 4,466,880\n",
            "Non-trainable params: 0\n",
            "_________________________________________________________________\n"
          ]
        },
        {
          "output_type": "stream",
          "name": "stderr",
          "text": [
            "/usr/local/lib/python3.7/dist-packages/keras/optimizer_v2/optimizer_v2.py:356: UserWarning: The `lr` argument is deprecated, use `learning_rate` instead.\n",
            "  \"The `lr` argument is deprecated, use `learning_rate` instead.\")\n"
          ]
        }
      ]
    },
    {
      "cell_type": "markdown",
      "metadata": {
        "id": "xmjWCEyTgRgC"
      },
      "source": [
        "Helpful references:\n",
        "\n",
        "1)This explains why last dense layer has no activation function:\n",
        "  - we primarily do that if we are trying to accuractely do regression.\n",
        "\n",
        "https://stats.stackexchange.com/questions/361066/what-is-the-point-of-having-a-dense-layer-in-a-neural-network-with-no-activation\n",
        "\n",
        "2)This video shows how to implement a stacked LSTM model:\n",
        "https://www.youtube.com/watch?v=BSpXCRTOLJA\n",
        "\n",
        "3) This video shows the inner anatomy of an LSTM, primarily the sigmoid and Tanh, used for gating inside the LSTM:\n",
        "https://www.youtube.com/watch?v=8HyCNIVRbSU&t=632s\n",
        "\n",
        "4) The blogpost that references the video in 3. Is linked here:\n",
        "https://towardsdatascience.com/illustrated-guide-to-lstms-and-gru-s-a-step-by-step-explanation-44e9eb85bf21\n",
        "\n",
        "5) This is the link from Andrew NG, I studied to understand, why we use BatchNormalization in the CNN:\n",
        "https://www.youtube.com/watch?v=nUUqwaxLnWs\n",
        "\n",
        "6) Running on CPU vs GPU vs TPU???\n",
        "https://serverguy.com/comparison/cpu-vs-gpu-vs-tpu/\n",
        "\n",
        "\n"
      ]
    }
  ]
}